{
  "nbformat": 4,
  "nbformat_minor": 0,
  "metadata": {
    "colab": {
      "name": "NSW.ipynb",
      "provenance": [],
      "authorship_tag": "ABX9TyMa5OH1bdVfIZ/LemTYPmT3",
      "include_colab_link": true
    },
    "kernelspec": {
      "name": "python3",
      "display_name": "Python 3"
    }
  },
  "cells": [
    {
      "cell_type": "markdown",
      "metadata": {
        "id": "view-in-github",
        "colab_type": "text"
      },
      "source": [
        "<a href=\"https://colab.research.google.com/github/shahryarabbasmirza93/datathon/blob/main/NSWElectricityPrediction.ipynb\" target=\"_parent\"><img src=\"https://colab.research.google.com/assets/colab-badge.svg\" alt=\"Open In Colab\"/></a>"
      ]
    },
    {
      "cell_type": "code",
      "metadata": {
        "id": "zva5pXKUpMHC"
      },
      "source": [
        "import pandas as pd\n",
        "import numpy as np\n",
        "import matplotlib.pyplot as plt\n",
        "import seaborn as sns\n",
        "import pprint\n",
        "from sklearn.preprocessing import MinMaxScaler\n",
        "%matplotlib inline"
      ],
      "execution_count": 1,
      "outputs": []
    },
    {
      "cell_type": "code",
      "metadata": {
        "id": "oDVq3aMisGUa",
        "outputId": "6128548a-d661-46f1-e916-850cc1ca9a4c",
        "colab": {
          "base_uri": "https://localhost:8080/"
        }
      },
      "source": [
        "import io \n",
        "\n",
        "df = pd.read_csv('NSW.csv')\n",
        "print(df)"
      ],
      "execution_count": 3,
      "outputs": [
        {
          "output_type": "stream",
          "text": [
            "        SETTLEMENTDATE  TOTALDEMAND\n",
            "0          1/1/05 0:30   7255.10000\n",
            "1          1/1/05 1:00   6990.71333\n",
            "2          1/1/05 1:30   6613.26500\n",
            "3          1/1/05 2:00   6275.18667\n",
            "4          1/1/05 2:30   5962.21833\n",
            "...                ...          ...\n",
            "277579  31/10/20 22:00   7046.03000\n",
            "277580  31/10/20 22:30   7036.16000\n",
            "277581  31/10/20 23:00   6926.71000\n",
            "277582  31/10/20 23:30   6728.18000\n",
            "277583    1/11/20 0:00   6637.04000\n",
            "\n",
            "[277584 rows x 2 columns]\n"
          ],
          "name": "stdout"
        }
      ]
    },
    {
      "cell_type": "code",
      "metadata": {
        "id": "JlSEDnGhszon",
        "outputId": "cd80b670-1132-47f0-f463-8a70d26a6be8",
        "colab": {
          "base_uri": "https://localhost:8080/",
          "height": 216
        }
      },
      "source": [
        "dataset = df\n",
        "dataset[\"Month\"] = pd.to_datetime(df[\"SETTLEMENTDATE\"]).dt.month\n",
        "dataset[\"Year\"] = pd.to_datetime(df[\"SETTLEMENTDATE\"]).dt.year\n",
        "dataset[\"Date\"] = pd.to_datetime(df[\"SETTLEMENTDATE\"]).dt.date\n",
        "dataset[\"Time\"] = pd.to_datetime(df[\"SETTLEMENTDATE\"]).dt.time\n",
        "dataset[\"Week\"] = pd.to_datetime(df[\"SETTLEMENTDATE\"]).dt.week\n",
        "dataset[\"Day\"] = pd.to_datetime(df[\"SETTLEMENTDATE\"]).dt.day_name()\n",
        "dataset[\"dayofweek\"] = pd.to_datetime(df[\"SETTLEMENTDATE\"]).dt.dayofweek\n",
        "dataset[\"dayofyear\"] = pd.to_datetime(df[\"SETTLEMENTDATE\"]).dt.dayofyear\n",
        "dataset[\"weekofyear\"] = pd.to_datetime(df[\"SETTLEMENTDATE\"]).dt.weekofyear\n",
        "dataset[\"quarter\"] = pd.to_datetime(df[\"SETTLEMENTDATE\"]).dt.quarter\n",
        "dataset[\"dayofmonth\"] = pd.to_datetime(df[\"SETTLEMENTDATE\"]).dt.day\n",
        "dataset = df.set_index(\"SETTLEMENTDATE\")\n",
        "dataset.index = pd.to_datetime(dataset.index)\n",
        "dataset.head(1)\n"
      ],
      "execution_count": 4,
      "outputs": [
        {
          "output_type": "stream",
          "text": [
            "/usr/local/lib/python3.6/dist-packages/ipykernel_launcher.py:6: FutureWarning: Series.dt.weekofyear and Series.dt.week have been deprecated.  Please use Series.dt.isocalendar().week instead.\n",
            "  \n",
            "/usr/local/lib/python3.6/dist-packages/ipykernel_launcher.py:10: FutureWarning: Series.dt.weekofyear and Series.dt.week have been deprecated.  Please use Series.dt.isocalendar().week instead.\n",
            "  # Remove the CWD from sys.path while we load stuff.\n"
          ],
          "name": "stderr"
        },
        {
          "output_type": "execute_result",
          "data": {
            "text/html": [
              "<div>\n",
              "<style scoped>\n",
              "    .dataframe tbody tr th:only-of-type {\n",
              "        vertical-align: middle;\n",
              "    }\n",
              "\n",
              "    .dataframe tbody tr th {\n",
              "        vertical-align: top;\n",
              "    }\n",
              "\n",
              "    .dataframe thead th {\n",
              "        text-align: right;\n",
              "    }\n",
              "</style>\n",
              "<table border=\"1\" class=\"dataframe\">\n",
              "  <thead>\n",
              "    <tr style=\"text-align: right;\">\n",
              "      <th></th>\n",
              "      <th>TOTALDEMAND</th>\n",
              "      <th>Month</th>\n",
              "      <th>Year</th>\n",
              "      <th>Date</th>\n",
              "      <th>Time</th>\n",
              "      <th>Week</th>\n",
              "      <th>Day</th>\n",
              "      <th>dayofweek</th>\n",
              "      <th>dayofyear</th>\n",
              "      <th>weekofyear</th>\n",
              "      <th>quarter</th>\n",
              "      <th>dayofmonth</th>\n",
              "    </tr>\n",
              "    <tr>\n",
              "      <th>SETTLEMENTDATE</th>\n",
              "      <th></th>\n",
              "      <th></th>\n",
              "      <th></th>\n",
              "      <th></th>\n",
              "      <th></th>\n",
              "      <th></th>\n",
              "      <th></th>\n",
              "      <th></th>\n",
              "      <th></th>\n",
              "      <th></th>\n",
              "      <th></th>\n",
              "      <th></th>\n",
              "    </tr>\n",
              "  </thead>\n",
              "  <tbody>\n",
              "    <tr>\n",
              "      <th>2005-01-01 00:30:00</th>\n",
              "      <td>7255.1</td>\n",
              "      <td>1</td>\n",
              "      <td>2005</td>\n",
              "      <td>2005-01-01</td>\n",
              "      <td>00:30:00</td>\n",
              "      <td>53</td>\n",
              "      <td>Saturday</td>\n",
              "      <td>5</td>\n",
              "      <td>1</td>\n",
              "      <td>53</td>\n",
              "      <td>1</td>\n",
              "      <td>1</td>\n",
              "    </tr>\n",
              "  </tbody>\n",
              "</table>\n",
              "</div>"
            ],
            "text/plain": [
              "                     TOTALDEMAND  Month  Year  ... weekofyear quarter  dayofmonth\n",
              "SETTLEMENTDATE                                 ...                               \n",
              "2005-01-01 00:30:00       7255.1      1  2005  ...         53       1           1\n",
              "\n",
              "[1 rows x 12 columns]"
            ]
          },
          "metadata": {
            "tags": []
          },
          "execution_count": 4
        }
      ]
    },
    {
      "cell_type": "code",
      "metadata": {
        "id": "x7Hujqqjf48a",
        "outputId": "bdefd3ba-947b-4973-c36f-142576aa52a0",
        "colab": {
          "base_uri": "https://localhost:8080/"
        }
      },
      "source": [
        "NewDataSet = dataset.resample('D').mean()\n",
        "NewDataSet.head"
      ],
      "execution_count": 6,
      "outputs": [
        {
          "output_type": "execute_result",
          "data": {
            "text/plain": [
              "<bound method NDFrame.head of                 TOTALDEMAND  Month    Year  ...  weekofyear  quarter  dayofmonth\n",
              "SETTLEMENTDATE                              ...                                 \n",
              "2005-01-01      7153.841631    1.0  2005.0  ...        53.0      1.0         1.0\n",
              "2005-01-02      9548.012396    1.0  2005.0  ...        53.0      1.0         2.0\n",
              "2005-01-03      9290.314097    1.0  2005.0  ...         1.0      1.0         3.0\n",
              "2005-01-04      8349.669862    1.0  2005.0  ...         1.0      1.0         4.0\n",
              "2005-01-05      7428.763854    1.0  2005.0  ...         1.0      1.0         5.0\n",
              "...                     ...    ...     ...  ...         ...      ...         ...\n",
              "2020-12-06      8605.631667   12.0  2020.0  ...        49.0      4.0         6.0\n",
              "2020-12-07      8193.315208   12.0  2020.0  ...        50.0      4.0         7.0\n",
              "2020-12-08      8807.579167   12.0  2020.0  ...        50.0      4.0         8.0\n",
              "2020-12-09      6913.052500   12.0  2020.0  ...        50.0      4.0         9.0\n",
              "2020-12-10      6986.672292   12.0  2020.0  ...        50.0      4.0        10.0\n",
              "\n",
              "[5823 rows x 9 columns]>"
            ]
          },
          "metadata": {
            "tags": []
          },
          "execution_count": 6
        }
      ]
    },
    {
      "cell_type": "code",
      "metadata": {
        "id": "MU4-GvWGgXHK"
      },
      "source": [
        "NewDataSet.dropna(axis=0,how='any',thresh=None,subset=None,inplace=True)"
      ],
      "execution_count": 7,
      "outputs": []
    },
    {
      "cell_type": "code",
      "metadata": {
        "id": "83vqyIkZgY5M",
        "outputId": "cbeeb0a7-5e5d-4afa-9122-ac635233485e",
        "colab": {
          "base_uri": "https://localhost:8080/"
        }
      },
      "source": [
        "NewDataSet.to_csv('NewDataSet.csv')\n",
        "!cp NewDataSet.csv \"drive/My Drive/NewDataSet.csv\""
      ],
      "execution_count": 8,
      "outputs": [
        {
          "output_type": "stream",
          "text": [
            "cp: cannot create regular file 'drive/My Drive/NewDataSet.csv': No such file or directory\n"
          ],
          "name": "stdout"
        }
      ]
    },
    {
      "cell_type": "code",
      "metadata": {
        "id": "hZI_jGpGzn-Y"
      },
      "source": [
        "max=dict(zip(temp_dt['Year'],temp_dt['Maximum temperature (Degree C)']))\n",
        "min=dict(zip(temp_dt['Year'],temp_dt['Minimum temperature (Degree C)']))"
      ],
      "execution_count": null,
      "outputs": []
    },
    {
      "cell_type": "code",
      "metadata": {
        "id": "fjjm99LkzqRt"
      },
      "source": [
        "dataset['Maximum temperature (Degree C)'] = dataset['Minimum temperature (Degree C)'] = dataset['Date']\n"
      ],
      "execution_count": null,
      "outputs": []
    },
    {
      "cell_type": "code",
      "metadata": {
        "id": "vX5oNgFPztLl"
      },
      "source": [
        "dataset = dataset.replace({\"Maximum temperature (Degree C)\": max})\n",
        "dataset = dataset.replace({\"Minimum temperature (Degree C)\": min})"
      ],
      "execution_count": null,
      "outputs": []
    },
    {
      "cell_type": "code",
      "metadata": {
        "id": "OXC3fVkj2-e-",
        "outputId": "9dd149f7-b78e-426a-b8a8-19d0db964194",
        "colab": {
          "base_uri": "https://localhost:8080/",
          "height": 620
        }
      },
      "source": [
        "dataset\n"
      ],
      "execution_count": null,
      "outputs": [
        {
          "output_type": "execute_result",
          "data": {
            "text/html": [
              "<div>\n",
              "<style scoped>\n",
              "    .dataframe tbody tr th:only-of-type {\n",
              "        vertical-align: middle;\n",
              "    }\n",
              "\n",
              "    .dataframe tbody tr th {\n",
              "        vertical-align: top;\n",
              "    }\n",
              "\n",
              "    .dataframe thead th {\n",
              "        text-align: right;\n",
              "    }\n",
              "</style>\n",
              "<table border=\"1\" class=\"dataframe\">\n",
              "  <thead>\n",
              "    <tr style=\"text-align: right;\">\n",
              "      <th></th>\n",
              "      <th>TOTALDEMAND</th>\n",
              "      <th>Month</th>\n",
              "      <th>Year</th>\n",
              "      <th>Date</th>\n",
              "      <th>Time</th>\n",
              "      <th>Week</th>\n",
              "      <th>Day</th>\n",
              "      <th>dayofweek</th>\n",
              "      <th>dayofyear</th>\n",
              "      <th>weekofyear</th>\n",
              "      <th>quarter</th>\n",
              "      <th>dayofmonth</th>\n",
              "      <th>Maximum temperature (Degree C)</th>\n",
              "      <th>Minimum temperature (Degree C)</th>\n",
              "    </tr>\n",
              "    <tr>\n",
              "      <th>SETTLEMENTDATE</th>\n",
              "      <th></th>\n",
              "      <th></th>\n",
              "      <th></th>\n",
              "      <th></th>\n",
              "      <th></th>\n",
              "      <th></th>\n",
              "      <th></th>\n",
              "      <th></th>\n",
              "      <th></th>\n",
              "      <th></th>\n",
              "      <th></th>\n",
              "      <th></th>\n",
              "      <th></th>\n",
              "      <th></th>\n",
              "    </tr>\n",
              "  </thead>\n",
              "  <tbody>\n",
              "    <tr>\n",
              "      <th>2005-01-01 00:30:00</th>\n",
              "      <td>7255.10000</td>\n",
              "      <td>1</td>\n",
              "      <td>2005</td>\n",
              "      <td>2005-01-01</td>\n",
              "      <td>00:30:00</td>\n",
              "      <td>53</td>\n",
              "      <td>Saturday</td>\n",
              "      <td>5</td>\n",
              "      <td>1</td>\n",
              "      <td>53</td>\n",
              "      <td>1</td>\n",
              "      <td>1</td>\n",
              "      <td>31.5</td>\n",
              "      <td>15.1</td>\n",
              "    </tr>\n",
              "    <tr>\n",
              "      <th>2005-01-01 01:00:00</th>\n",
              "      <td>6990.71333</td>\n",
              "      <td>1</td>\n",
              "      <td>2005</td>\n",
              "      <td>2005-01-01</td>\n",
              "      <td>01:00:00</td>\n",
              "      <td>53</td>\n",
              "      <td>Saturday</td>\n",
              "      <td>5</td>\n",
              "      <td>1</td>\n",
              "      <td>53</td>\n",
              "      <td>1</td>\n",
              "      <td>1</td>\n",
              "      <td>31.5</td>\n",
              "      <td>15.1</td>\n",
              "    </tr>\n",
              "    <tr>\n",
              "      <th>2005-01-01 01:30:00</th>\n",
              "      <td>6613.26500</td>\n",
              "      <td>1</td>\n",
              "      <td>2005</td>\n",
              "      <td>2005-01-01</td>\n",
              "      <td>01:30:00</td>\n",
              "      <td>53</td>\n",
              "      <td>Saturday</td>\n",
              "      <td>5</td>\n",
              "      <td>1</td>\n",
              "      <td>53</td>\n",
              "      <td>1</td>\n",
              "      <td>1</td>\n",
              "      <td>31.5</td>\n",
              "      <td>15.1</td>\n",
              "    </tr>\n",
              "    <tr>\n",
              "      <th>2005-01-01 02:00:00</th>\n",
              "      <td>6275.18667</td>\n",
              "      <td>1</td>\n",
              "      <td>2005</td>\n",
              "      <td>2005-01-01</td>\n",
              "      <td>02:00:00</td>\n",
              "      <td>53</td>\n",
              "      <td>Saturday</td>\n",
              "      <td>5</td>\n",
              "      <td>1</td>\n",
              "      <td>53</td>\n",
              "      <td>1</td>\n",
              "      <td>1</td>\n",
              "      <td>31.5</td>\n",
              "      <td>15.1</td>\n",
              "    </tr>\n",
              "    <tr>\n",
              "      <th>2005-01-01 02:30:00</th>\n",
              "      <td>5962.21833</td>\n",
              "      <td>1</td>\n",
              "      <td>2005</td>\n",
              "      <td>2005-01-01</td>\n",
              "      <td>02:30:00</td>\n",
              "      <td>53</td>\n",
              "      <td>Saturday</td>\n",
              "      <td>5</td>\n",
              "      <td>1</td>\n",
              "      <td>53</td>\n",
              "      <td>1</td>\n",
              "      <td>1</td>\n",
              "      <td>31.5</td>\n",
              "      <td>15.1</td>\n",
              "    </tr>\n",
              "    <tr>\n",
              "      <th>...</th>\n",
              "      <td>...</td>\n",
              "      <td>...</td>\n",
              "      <td>...</td>\n",
              "      <td>...</td>\n",
              "      <td>...</td>\n",
              "      <td>...</td>\n",
              "      <td>...</td>\n",
              "      <td>...</td>\n",
              "      <td>...</td>\n",
              "      <td>...</td>\n",
              "      <td>...</td>\n",
              "      <td>...</td>\n",
              "      <td>...</td>\n",
              "      <td>...</td>\n",
              "    </tr>\n",
              "    <tr>\n",
              "      <th>2020-10-31 22:00:00</th>\n",
              "      <td>7046.03000</td>\n",
              "      <td>10</td>\n",
              "      <td>2020</td>\n",
              "      <td>2020-10-31</td>\n",
              "      <td>22:00:00</td>\n",
              "      <td>44</td>\n",
              "      <td>Saturday</td>\n",
              "      <td>5</td>\n",
              "      <td>305</td>\n",
              "      <td>44</td>\n",
              "      <td>4</td>\n",
              "      <td>31</td>\n",
              "      <td>25.3</td>\n",
              "      <td>16.1</td>\n",
              "    </tr>\n",
              "    <tr>\n",
              "      <th>2020-10-31 22:30:00</th>\n",
              "      <td>7036.16000</td>\n",
              "      <td>10</td>\n",
              "      <td>2020</td>\n",
              "      <td>2020-10-31</td>\n",
              "      <td>22:30:00</td>\n",
              "      <td>44</td>\n",
              "      <td>Saturday</td>\n",
              "      <td>5</td>\n",
              "      <td>305</td>\n",
              "      <td>44</td>\n",
              "      <td>4</td>\n",
              "      <td>31</td>\n",
              "      <td>25.3</td>\n",
              "      <td>16.1</td>\n",
              "    </tr>\n",
              "    <tr>\n",
              "      <th>2020-10-31 23:00:00</th>\n",
              "      <td>6926.71000</td>\n",
              "      <td>10</td>\n",
              "      <td>2020</td>\n",
              "      <td>2020-10-31</td>\n",
              "      <td>23:00:00</td>\n",
              "      <td>44</td>\n",
              "      <td>Saturday</td>\n",
              "      <td>5</td>\n",
              "      <td>305</td>\n",
              "      <td>44</td>\n",
              "      <td>4</td>\n",
              "      <td>31</td>\n",
              "      <td>25.3</td>\n",
              "      <td>16.1</td>\n",
              "    </tr>\n",
              "    <tr>\n",
              "      <th>2020-10-31 23:30:00</th>\n",
              "      <td>6728.18000</td>\n",
              "      <td>10</td>\n",
              "      <td>2020</td>\n",
              "      <td>2020-10-31</td>\n",
              "      <td>23:30:00</td>\n",
              "      <td>44</td>\n",
              "      <td>Saturday</td>\n",
              "      <td>5</td>\n",
              "      <td>305</td>\n",
              "      <td>44</td>\n",
              "      <td>4</td>\n",
              "      <td>31</td>\n",
              "      <td>25.3</td>\n",
              "      <td>16.1</td>\n",
              "    </tr>\n",
              "    <tr>\n",
              "      <th>2020-01-11 00:00:00</th>\n",
              "      <td>6637.04000</td>\n",
              "      <td>1</td>\n",
              "      <td>2020</td>\n",
              "      <td>2020-01-11</td>\n",
              "      <td>00:00:00</td>\n",
              "      <td>2</td>\n",
              "      <td>Saturday</td>\n",
              "      <td>5</td>\n",
              "      <td>11</td>\n",
              "      <td>2</td>\n",
              "      <td>1</td>\n",
              "      <td>11</td>\n",
              "      <td>21.1</td>\n",
              "      <td>17.2</td>\n",
              "    </tr>\n",
              "  </tbody>\n",
              "</table>\n",
              "<p>277584 rows × 14 columns</p>\n",
              "</div>"
            ],
            "text/plain": [
              "                     TOTALDEMAND  ...  Minimum temperature (Degree C)\n",
              "SETTLEMENTDATE                    ...                                \n",
              "2005-01-01 00:30:00   7255.10000  ...                            15.1\n",
              "2005-01-01 01:00:00   6990.71333  ...                            15.1\n",
              "2005-01-01 01:30:00   6613.26500  ...                            15.1\n",
              "2005-01-01 02:00:00   6275.18667  ...                            15.1\n",
              "2005-01-01 02:30:00   5962.21833  ...                            15.1\n",
              "...                          ...  ...                             ...\n",
              "2020-10-31 22:00:00   7046.03000  ...                            16.1\n",
              "2020-10-31 22:30:00   7036.16000  ...                            16.1\n",
              "2020-10-31 23:00:00   6926.71000  ...                            16.1\n",
              "2020-10-31 23:30:00   6728.18000  ...                            16.1\n",
              "2020-01-11 00:00:00   6637.04000  ...                            17.2\n",
              "\n",
              "[277584 rows x 14 columns]"
            ]
          },
          "metadata": {
            "tags": []
          },
          "execution_count": 11
        }
      ]
    },
    {
      "cell_type": "code",
      "metadata": {
        "id": "Up726ISYkJFY",
        "outputId": "c3961579-2888-4f6e-a795-2ad4db4a02f6",
        "colab": {
          "base_uri": "https://localhost:8080/"
        }
      },
      "source": [
        "df = pd.read_excel('NSW1.xlsx')\n",
        "print(df)"
      ],
      "execution_count": 13,
      "outputs": [
        {
          "output_type": "stream",
          "text": [
            "      TOTALDEMAND  Month  ...  holidays  population\n",
            "0     7153.841631      1  ...         1     6311168\n",
            "1     9548.012396      1  ...         0     6311168\n",
            "2     9290.314097      1  ...         0     6311168\n",
            "3     8349.669862      1  ...         0     6311168\n",
            "4     7428.763854      1  ...         0     6311168\n",
            "...           ...    ...  ...       ...         ...\n",
            "5759  7427.134792     10  ...         0     7480228\n",
            "5760  7341.675208     10  ...         0     7480228\n",
            "5761  7229.192292     10  ...         0     7480228\n",
            "5762  6967.797917     10  ...         0     7480228\n",
            "5763  6756.294792     10  ...         0     7480228\n",
            "\n",
            "[5764 rows x 13 columns]\n"
          ],
          "name": "stdout"
        }
      ]
    },
    {
      "cell_type": "code",
      "metadata": {
        "id": "wQnYbHbC3Spl",
        "outputId": "b3cf78dc-04f0-4604-bea9-4c758a16f573",
        "colab": {
          "base_uri": "https://localhost:8080/"
        }
      },
      "source": [
        "df.isna().sum()\n"
      ],
      "execution_count": 14,
      "outputs": [
        {
          "output_type": "execute_result",
          "data": {
            "text/plain": [
              "TOTALDEMAND                       0\n",
              "Month                             0\n",
              "Year                              0\n",
              "Week                              0\n",
              "dayofweek                         0\n",
              "dayofyear                         0\n",
              "weekofyear                        0\n",
              "quarter                           0\n",
              "dayofmonth                        0\n",
              "Maximum temperature (Degree C)    0\n",
              "Minimum temperature (Degree C)    0\n",
              "holidays                          0\n",
              "population                        0\n",
              "dtype: int64"
            ]
          },
          "metadata": {
            "tags": []
          },
          "execution_count": 14
        }
      ]
    },
    {
      "cell_type": "code",
      "metadata": {
        "id": "qW54-9G2gk4d"
      },
      "source": [
        "from keras.callbacks import ModelCheckpoint\n",
        "from keras.models import Sequential\n",
        "from keras.layers import Dense, Activation, Flatten\n",
        "from sklearn.model_selection import train_test_split\n",
        "from sklearn.ensemble import RandomForestRegressor\n",
        "from sklearn.metrics import mean_absolute_error \n",
        "from matplotlib import pyplot as plt\n",
        "import seaborn as sb\n",
        "import matplotlib.pyplot as plt\n",
        "import pandas as pd\n",
        "import numpy as np\n",
        "import warnings \n",
        "warnings.filterwarnings('ignore')\n",
        "warnings.filterwarnings('ignore', category=DeprecationWarning)\n",
        "from xgboost import XGBRegressor"
      ],
      "execution_count": 15,
      "outputs": []
    },
    {
      "cell_type": "code",
      "metadata": {
        "id": "f9BD6ObXglCA"
      },
      "source": [
        "y=df['TOTALDEMAND']\n",
        "df_t=df.drop(['TOTALDEMAND'],axis=1)"
      ],
      "execution_count": 16,
      "outputs": []
    },
    {
      "cell_type": "code",
      "metadata": {
        "id": "JO8Ka_8rglEk"
      },
      "source": [
        "train_X, val_X, train_y, val_y = train_test_split(df_t,y, test_size = 0.25, random_state = 14)\n"
      ],
      "execution_count": 17,
      "outputs": []
    },
    {
      "cell_type": "code",
      "metadata": {
        "id": "vf0fMXhRglHm",
        "outputId": "019b10ee-337d-4985-bbc6-316515a680b6",
        "colab": {
          "base_uri": "https://localhost:8080/"
        }
      },
      "source": [
        "model = RandomForestRegressor()\n",
        "model.fit(train_X,train_y)"
      ],
      "execution_count": 18,
      "outputs": [
        {
          "output_type": "execute_result",
          "data": {
            "text/plain": [
              "RandomForestRegressor(bootstrap=True, ccp_alpha=0.0, criterion='mse',\n",
              "                      max_depth=None, max_features='auto', max_leaf_nodes=None,\n",
              "                      max_samples=None, min_impurity_decrease=0.0,\n",
              "                      min_impurity_split=None, min_samples_leaf=1,\n",
              "                      min_samples_split=2, min_weight_fraction_leaf=0.0,\n",
              "                      n_estimators=100, n_jobs=None, oob_score=False,\n",
              "                      random_state=None, verbose=0, warm_start=False)"
            ]
          },
          "metadata": {
            "tags": []
          },
          "execution_count": 18
        }
      ]
    },
    {
      "cell_type": "code",
      "metadata": {
        "id": "R21s6RqCltpQ",
        "outputId": "a94780ef-e766-4d8d-e506-9c9d29a5eaaf",
        "colab": {
          "base_uri": "https://localhost:8080/",
          "height": 473
        }
      },
      "source": [
        "df_t"
      ],
      "execution_count": 19,
      "outputs": [
        {
          "output_type": "execute_result",
          "data": {
            "text/html": [
              "<div>\n",
              "<style scoped>\n",
              "    .dataframe tbody tr th:only-of-type {\n",
              "        vertical-align: middle;\n",
              "    }\n",
              "\n",
              "    .dataframe tbody tr th {\n",
              "        vertical-align: top;\n",
              "    }\n",
              "\n",
              "    .dataframe thead th {\n",
              "        text-align: right;\n",
              "    }\n",
              "</style>\n",
              "<table border=\"1\" class=\"dataframe\">\n",
              "  <thead>\n",
              "    <tr style=\"text-align: right;\">\n",
              "      <th></th>\n",
              "      <th>Month</th>\n",
              "      <th>Year</th>\n",
              "      <th>Week</th>\n",
              "      <th>dayofweek</th>\n",
              "      <th>dayofyear</th>\n",
              "      <th>weekofyear</th>\n",
              "      <th>quarter</th>\n",
              "      <th>dayofmonth</th>\n",
              "      <th>Maximum temperature (Degree C)</th>\n",
              "      <th>Minimum temperature (Degree C)</th>\n",
              "      <th>holidays</th>\n",
              "      <th>population</th>\n",
              "    </tr>\n",
              "  </thead>\n",
              "  <tbody>\n",
              "    <tr>\n",
              "      <th>0</th>\n",
              "      <td>1</td>\n",
              "      <td>2005</td>\n",
              "      <td>53</td>\n",
              "      <td>5</td>\n",
              "      <td>1</td>\n",
              "      <td>53</td>\n",
              "      <td>1</td>\n",
              "      <td>1</td>\n",
              "      <td>31.5</td>\n",
              "      <td>15.1</td>\n",
              "      <td>1</td>\n",
              "      <td>6311168</td>\n",
              "    </tr>\n",
              "    <tr>\n",
              "      <th>1</th>\n",
              "      <td>1</td>\n",
              "      <td>2005</td>\n",
              "      <td>53</td>\n",
              "      <td>6</td>\n",
              "      <td>2</td>\n",
              "      <td>53</td>\n",
              "      <td>1</td>\n",
              "      <td>2</td>\n",
              "      <td>23.8</td>\n",
              "      <td>18.1</td>\n",
              "      <td>0</td>\n",
              "      <td>6311168</td>\n",
              "    </tr>\n",
              "    <tr>\n",
              "      <th>2</th>\n",
              "      <td>1</td>\n",
              "      <td>2005</td>\n",
              "      <td>1</td>\n",
              "      <td>0</td>\n",
              "      <td>3</td>\n",
              "      <td>1</td>\n",
              "      <td>1</td>\n",
              "      <td>3</td>\n",
              "      <td>24.4</td>\n",
              "      <td>17.3</td>\n",
              "      <td>0</td>\n",
              "      <td>6311168</td>\n",
              "    </tr>\n",
              "    <tr>\n",
              "      <th>3</th>\n",
              "      <td>1</td>\n",
              "      <td>2005</td>\n",
              "      <td>1</td>\n",
              "      <td>1</td>\n",
              "      <td>4</td>\n",
              "      <td>1</td>\n",
              "      <td>1</td>\n",
              "      <td>4</td>\n",
              "      <td>25.7</td>\n",
              "      <td>19.1</td>\n",
              "      <td>0</td>\n",
              "      <td>6311168</td>\n",
              "    </tr>\n",
              "    <tr>\n",
              "      <th>4</th>\n",
              "      <td>1</td>\n",
              "      <td>2005</td>\n",
              "      <td>1</td>\n",
              "      <td>2</td>\n",
              "      <td>5</td>\n",
              "      <td>1</td>\n",
              "      <td>1</td>\n",
              "      <td>5</td>\n",
              "      <td>31.2</td>\n",
              "      <td>18.9</td>\n",
              "      <td>0</td>\n",
              "      <td>6311168</td>\n",
              "    </tr>\n",
              "    <tr>\n",
              "      <th>...</th>\n",
              "      <td>...</td>\n",
              "      <td>...</td>\n",
              "      <td>...</td>\n",
              "      <td>...</td>\n",
              "      <td>...</td>\n",
              "      <td>...</td>\n",
              "      <td>...</td>\n",
              "      <td>...</td>\n",
              "      <td>...</td>\n",
              "      <td>...</td>\n",
              "      <td>...</td>\n",
              "      <td>...</td>\n",
              "    </tr>\n",
              "    <tr>\n",
              "      <th>5759</th>\n",
              "      <td>10</td>\n",
              "      <td>2020</td>\n",
              "      <td>44</td>\n",
              "      <td>1</td>\n",
              "      <td>301</td>\n",
              "      <td>44</td>\n",
              "      <td>4</td>\n",
              "      <td>27</td>\n",
              "      <td>27.7</td>\n",
              "      <td>16.0</td>\n",
              "      <td>0</td>\n",
              "      <td>7480228</td>\n",
              "    </tr>\n",
              "    <tr>\n",
              "      <th>5760</th>\n",
              "      <td>10</td>\n",
              "      <td>2020</td>\n",
              "      <td>44</td>\n",
              "      <td>2</td>\n",
              "      <td>302</td>\n",
              "      <td>44</td>\n",
              "      <td>4</td>\n",
              "      <td>28</td>\n",
              "      <td>21.6</td>\n",
              "      <td>12.4</td>\n",
              "      <td>0</td>\n",
              "      <td>7480228</td>\n",
              "    </tr>\n",
              "    <tr>\n",
              "      <th>5761</th>\n",
              "      <td>10</td>\n",
              "      <td>2020</td>\n",
              "      <td>44</td>\n",
              "      <td>3</td>\n",
              "      <td>303</td>\n",
              "      <td>44</td>\n",
              "      <td>4</td>\n",
              "      <td>29</td>\n",
              "      <td>23.9</td>\n",
              "      <td>10.2</td>\n",
              "      <td>0</td>\n",
              "      <td>7480228</td>\n",
              "    </tr>\n",
              "    <tr>\n",
              "      <th>5762</th>\n",
              "      <td>10</td>\n",
              "      <td>2020</td>\n",
              "      <td>44</td>\n",
              "      <td>4</td>\n",
              "      <td>304</td>\n",
              "      <td>44</td>\n",
              "      <td>4</td>\n",
              "      <td>30</td>\n",
              "      <td>25.4</td>\n",
              "      <td>12.4</td>\n",
              "      <td>0</td>\n",
              "      <td>7480228</td>\n",
              "    </tr>\n",
              "    <tr>\n",
              "      <th>5763</th>\n",
              "      <td>10</td>\n",
              "      <td>2020</td>\n",
              "      <td>44</td>\n",
              "      <td>5</td>\n",
              "      <td>305</td>\n",
              "      <td>44</td>\n",
              "      <td>4</td>\n",
              "      <td>31</td>\n",
              "      <td>22.8</td>\n",
              "      <td>16.0</td>\n",
              "      <td>0</td>\n",
              "      <td>7480228</td>\n",
              "    </tr>\n",
              "  </tbody>\n",
              "</table>\n",
              "<p>5764 rows × 12 columns</p>\n",
              "</div>"
            ],
            "text/plain": [
              "      Month  Year  Week  ...  Minimum temperature (Degree C)  holidays  population\n",
              "0         1  2005    53  ...                            15.1         1     6311168\n",
              "1         1  2005    53  ...                            18.1         0     6311168\n",
              "2         1  2005     1  ...                            17.3         0     6311168\n",
              "3         1  2005     1  ...                            19.1         0     6311168\n",
              "4         1  2005     1  ...                            18.9         0     6311168\n",
              "...     ...   ...   ...  ...                             ...       ...         ...\n",
              "5759     10  2020    44  ...                            16.0         0     7480228\n",
              "5760     10  2020    44  ...                            12.4         0     7480228\n",
              "5761     10  2020    44  ...                            10.2         0     7480228\n",
              "5762     10  2020    44  ...                            12.4         0     7480228\n",
              "5763     10  2020    44  ...                            16.0         0     7480228\n",
              "\n",
              "[5764 rows x 12 columns]"
            ]
          },
          "metadata": {
            "tags": []
          },
          "execution_count": 19
        }
      ]
    },
    {
      "cell_type": "code",
      "metadata": {
        "id": "k_sbhCtllw0N"
      },
      "source": [
        "predicted_demand = model.predict(df_t)\n"
      ],
      "execution_count": 20,
      "outputs": []
    },
    {
      "cell_type": "code",
      "metadata": {
        "id": "NRB7wplylw8e"
      },
      "source": [
        "predicted_demand = pd.DataFrame(predicted_demand, columns=['predicted_demand']).to_csv('predicted_demand.csv') "
      ],
      "execution_count": 21,
      "outputs": []
    },
    {
      "cell_type": "markdown",
      "metadata": {
        "id": "6DZs_fBJrVSx"
      },
      "source": [
        "**XGBoost Model**"
      ]
    },
    {
      "cell_type": "code",
      "metadata": {
        "id": "0kauLlhnlw_G",
        "outputId": "46f90290-83a2-4a37-cf5c-9ee24b937de6",
        "colab": {
          "base_uri": "https://localhost:8080/"
        }
      },
      "source": [
        "XGBModel = XGBRegressor()\n",
        "XGBModel.fit(df_t,y , verbose=False)"
      ],
      "execution_count": 22,
      "outputs": [
        {
          "output_type": "stream",
          "text": [
            "[11:04:28] WARNING: /workspace/src/objective/regression_obj.cu:152: reg:linear is now deprecated in favor of reg:squarederror.\n"
          ],
          "name": "stdout"
        },
        {
          "output_type": "execute_result",
          "data": {
            "text/plain": [
              "XGBRegressor(base_score=0.5, booster='gbtree', colsample_bylevel=1,\n",
              "             colsample_bynode=1, colsample_bytree=1, gamma=0,\n",
              "             importance_type='gain', learning_rate=0.1, max_delta_step=0,\n",
              "             max_depth=3, min_child_weight=1, missing=None, n_estimators=100,\n",
              "             n_jobs=1, nthread=None, objective='reg:linear', random_state=0,\n",
              "             reg_alpha=0, reg_lambda=1, scale_pos_weight=1, seed=None,\n",
              "             silent=None, subsample=1, verbosity=1)"
            ]
          },
          "metadata": {
            "tags": []
          },
          "execution_count": 22
        }
      ]
    },
    {
      "cell_type": "code",
      "metadata": {
        "id": "S48Y4tyrrdKr"
      },
      "source": [
        "XGBpredictions = XGBModel.predict(df_t)\n"
      ],
      "execution_count": 23,
      "outputs": []
    },
    {
      "cell_type": "code",
      "metadata": {
        "id": "EJnQhG6Trg1M"
      },
      "source": [
        "XGBpredictions = pd.DataFrame(XGBpredictions, columns=['XGBpredictions']).to_csv('XGBpredictions.csv') "
      ],
      "execution_count": 24,
      "outputs": []
    }
  ]
}