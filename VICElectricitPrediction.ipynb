{
  "nbformat": 4,
  "nbformat_minor": 0,
  "metadata": {
    "colab": {
      "name": "VIC.ipynb",
      "provenance": [],
      "authorship_tag": "ABX9TyM3M/v2p32dSILJOYck36vV",
      "include_colab_link": true
    },
    "kernelspec": {
      "name": "python3",
      "display_name": "Python 3"
    }
  },
  "cells": [
    {
      "cell_type": "markdown",
      "metadata": {
        "id": "view-in-github",
        "colab_type": "text"
      },
      "source": [
        "<a href=\"https://colab.research.google.com/github/shahryarabbasmirza93/datathon/blob/main/VICElectricitPrediction.ipynb\" target=\"_parent\"><img src=\"https://colab.research.google.com/assets/colab-badge.svg\" alt=\"Open In Colab\"/></a>"
      ]
    },
    {
      "cell_type": "code",
      "metadata": {
        "id": "aiIjmp6kc46F"
      },
      "source": [
        "import pandas as pd\n",
        "import numpy as np\n",
        "import matplotlib.pyplot as plt\n",
        "import seaborn as sns\n",
        "import pprint\n",
        "from sklearn.preprocessing import MinMaxScaler\n",
        "%matplotlib inline"
      ],
      "execution_count": 1,
      "outputs": []
    },
    {
      "cell_type": "code",
      "metadata": {
        "id": "NmhkQVUez_j4",
        "outputId": "ab091c87-5281-4623-b448-a80387d852d3",
        "colab": {
          "base_uri": "https://localhost:8080/"
        }
      },
      "source": [
        "import io \n",
        "\n",
        "df = pd.read_csv('merge-csv.com__5fa53c262cdcf.csv')\n",
        "print(df)"
      ],
      "execution_count": 2,
      "outputs": [
        {
          "output_type": "stream",
          "text": [
            "        SETTLEMENTDATE  TOTALDEMAND\n",
            "0          1/1/05 0:30   5033.86667\n",
            "1          1/1/05 1:00   4842.28667\n",
            "2          1/1/05 1:30   5180.80500\n",
            "3          1/1/05 2:00   4955.66667\n",
            "4          1/1/05 2:30   4647.71500\n",
            "...                ...          ...\n",
            "277579  31/10/20 22:00   4371.16000\n",
            "277580  31/10/20 22:30   4231.38000\n",
            "277581  31/10/20 23:00   4200.92000\n",
            "277582  31/10/20 23:30   4401.31000\n",
            "277583    1/11/20 0:00   4357.60000\n",
            "\n",
            "[277584 rows x 2 columns]\n"
          ],
          "name": "stdout"
        }
      ]
    },
    {
      "cell_type": "code",
      "metadata": {
        "id": "QEFRxV-90NdK",
        "outputId": "11413f6a-0c78-4db2-b175-e4f9a8a26993",
        "colab": {
          "base_uri": "https://localhost:8080/",
          "height": 199
        }
      },
      "source": [
        "dataset = df\n",
        "dataset[\"Month\"] = pd.to_datetime(df[\"SETTLEMENTDATE\"]).dt.month\n",
        "dataset[\"Year\"] = pd.to_datetime(df[\"SETTLEMENTDATE\"]).dt.year\n",
        "dataset[\"Date\"] = pd.to_datetime(df[\"SETTLEMENTDATE\"]).dt.date\n",
        "dataset[\"Time\"] = pd.to_datetime(df[\"SETTLEMENTDATE\"]).dt.time\n",
        "dataset[\"Week\"] = pd.to_datetime(df[\"SETTLEMENTDATE\"]).dt.week\n",
        "dataset[\"Day\"] = pd.to_datetime(df[\"SETTLEMENTDATE\"]).dt.day_name()\n",
        "dataset[\"dayofweek\"] = pd.to_datetime(df[\"SETTLEMENTDATE\"]).dt.dayofweek\n",
        "dataset[\"dayofyear\"] = pd.to_datetime(df[\"SETTLEMENTDATE\"]).dt.dayofyear\n",
        "dataset[\"weekofyear\"] = pd.to_datetime(df[\"SETTLEMENTDATE\"]).dt.weekofyear\n",
        "dataset[\"quarter\"] = pd.to_datetime(df[\"SETTLEMENTDATE\"]).dt.quarter\n",
        "dataset[\"dayofmonth\"] = pd.to_datetime(df[\"SETTLEMENTDATE\"]).dt.day\n",
        "dataset = df.set_index(\"SETTLEMENTDATE\")\n",
        "dataset.index = pd.to_datetime(dataset.index)\n",
        "dataset.head(1)"
      ],
      "execution_count": 3,
      "outputs": [
        {
          "output_type": "stream",
          "text": [
            "/usr/local/lib/python3.6/dist-packages/ipykernel_launcher.py:6: FutureWarning: Series.dt.weekofyear and Series.dt.week have been deprecated.  Please use Series.dt.isocalendar().week instead.\n",
            "  \n",
            "/usr/local/lib/python3.6/dist-packages/ipykernel_launcher.py:10: FutureWarning: Series.dt.weekofyear and Series.dt.week have been deprecated.  Please use Series.dt.isocalendar().week instead.\n",
            "  # Remove the CWD from sys.path while we load stuff.\n"
          ],
          "name": "stderr"
        },
        {
          "output_type": "execute_result",
          "data": {
            "text/html": [
              "<div>\n",
              "<style scoped>\n",
              "    .dataframe tbody tr th:only-of-type {\n",
              "        vertical-align: middle;\n",
              "    }\n",
              "\n",
              "    .dataframe tbody tr th {\n",
              "        vertical-align: top;\n",
              "    }\n",
              "\n",
              "    .dataframe thead th {\n",
              "        text-align: right;\n",
              "    }\n",
              "</style>\n",
              "<table border=\"1\" class=\"dataframe\">\n",
              "  <thead>\n",
              "    <tr style=\"text-align: right;\">\n",
              "      <th></th>\n",
              "      <th>TOTALDEMAND</th>\n",
              "      <th>Month</th>\n",
              "      <th>Year</th>\n",
              "      <th>Date</th>\n",
              "      <th>Time</th>\n",
              "      <th>Week</th>\n",
              "      <th>Day</th>\n",
              "      <th>dayofweek</th>\n",
              "      <th>dayofyear</th>\n",
              "      <th>weekofyear</th>\n",
              "      <th>quarter</th>\n",
              "      <th>dayofmonth</th>\n",
              "    </tr>\n",
              "    <tr>\n",
              "      <th>SETTLEMENTDATE</th>\n",
              "      <th></th>\n",
              "      <th></th>\n",
              "      <th></th>\n",
              "      <th></th>\n",
              "      <th></th>\n",
              "      <th></th>\n",
              "      <th></th>\n",
              "      <th></th>\n",
              "      <th></th>\n",
              "      <th></th>\n",
              "      <th></th>\n",
              "      <th></th>\n",
              "    </tr>\n",
              "  </thead>\n",
              "  <tbody>\n",
              "    <tr>\n",
              "      <th>2005-01-01 00:30:00</th>\n",
              "      <td>5033.86667</td>\n",
              "      <td>1</td>\n",
              "      <td>2005</td>\n",
              "      <td>2005-01-01</td>\n",
              "      <td>00:30:00</td>\n",
              "      <td>53</td>\n",
              "      <td>Saturday</td>\n",
              "      <td>5</td>\n",
              "      <td>1</td>\n",
              "      <td>53</td>\n",
              "      <td>1</td>\n",
              "      <td>1</td>\n",
              "    </tr>\n",
              "  </tbody>\n",
              "</table>\n",
              "</div>"
            ],
            "text/plain": [
              "                     TOTALDEMAND  Month  Year  ... weekofyear quarter  dayofmonth\n",
              "SETTLEMENTDATE                                 ...                               \n",
              "2005-01-01 00:30:00   5033.86667      1  2005  ...         53       1           1\n",
              "\n",
              "[1 rows x 12 columns]"
            ]
          },
          "metadata": {
            "tags": []
          },
          "execution_count": 3
        }
      ]
    },
    {
      "cell_type": "code",
      "metadata": {
        "id": "se4_6UNEnE8A",
        "outputId": "a602aeab-be6e-44c7-94b5-79d1b9055d44",
        "colab": {
          "base_uri": "https://localhost:8080/"
        }
      },
      "source": [
        "NewDataSet = dataset.resample('D').mean()\n",
        "NewDataSet.head"
      ],
      "execution_count": 4,
      "outputs": [
        {
          "output_type": "execute_result",
          "data": {
            "text/plain": [
              "<bound method NDFrame.head of                 TOTALDEMAND  Month    Year  ...  weekofyear  quarter  dayofmonth\n",
              "SETTLEMENTDATE                              ...                                 \n",
              "2005-01-01      4509.045107    1.0  2005.0  ...        53.0      1.0         1.0\n",
              "2005-01-02      6165.431389    1.0  2005.0  ...        53.0      1.0         2.0\n",
              "2005-01-03      6513.619479    1.0  2005.0  ...         1.0      1.0         3.0\n",
              "2005-01-04      5969.506320    1.0  2005.0  ...         1.0      1.0         4.0\n",
              "2005-01-05      4982.231841    1.0  2005.0  ...         1.0      1.0         5.0\n",
              "...                     ...    ...     ...  ...         ...      ...         ...\n",
              "2020-12-06      5611.857708   12.0  2020.0  ...        49.0      4.0         6.0\n",
              "2020-12-07      4951.543750   12.0  2020.0  ...        50.0      4.0         7.0\n",
              "2020-12-08      5331.054583   12.0  2020.0  ...        50.0      4.0         8.0\n",
              "2020-12-09      4651.858333   12.0  2020.0  ...        50.0      4.0         9.0\n",
              "2020-12-10      4343.080625   12.0  2020.0  ...        50.0      4.0        10.0\n",
              "\n",
              "[5823 rows x 9 columns]>"
            ]
          },
          "metadata": {
            "tags": []
          },
          "execution_count": 4
        }
      ]
    },
    {
      "cell_type": "code",
      "metadata": {
        "id": "MCQgWD0wnLyh"
      },
      "source": [
        "NewDataSet.dropna(axis=0,how='any',thresh=None,subset=None,inplace=True)"
      ],
      "execution_count": 5,
      "outputs": []
    },
    {
      "cell_type": "code",
      "metadata": {
        "id": "FVpSvi8EnMp9",
        "outputId": "3ad7b31c-2f8e-4863-bb80-45907b82cdce",
        "colab": {
          "base_uri": "https://localhost:8080/"
        }
      },
      "source": [
        "NewDataSet.to_csv('NewDataSet.csv')\n",
        "!cp NewDataSet.csv \"drive/My Drive/NewDataSet.csv\""
      ],
      "execution_count": 6,
      "outputs": [
        {
          "output_type": "stream",
          "text": [
            "cp: cannot create regular file 'drive/My Drive/NewDataSet.csv': No such file or directory\n"
          ],
          "name": "stdout"
        }
      ]
    },
    {
      "cell_type": "code",
      "metadata": {
        "id": "9V0GYTtMo_HX",
        "outputId": "5876306b-f608-44dd-8dbd-df22ed5cd252",
        "colab": {
          "base_uri": "https://localhost:8080/"
        }
      },
      "source": [
        "df = pd.read_excel('NVIC.xlsx')\n",
        "print(df)"
      ],
      "execution_count": 8,
      "outputs": [
        {
          "output_type": "stream",
          "text": [
            "      TOTALDEMAND  Month  ...  population  holidays\n",
            "0     4509.045107      1  ...     4612097         1\n",
            "1     6165.431389      1  ...     4612097         0\n",
            "2     6513.619479      1  ...     4612097         0\n",
            "3     5969.506320      1  ...     4612097         0\n",
            "4     4982.231841      1  ...     4612097         0\n",
            "...           ...    ...  ...         ...       ...\n",
            "5759  4462.596250     10  ...     5926624         0\n",
            "5760  4429.444583     10  ...     5926624         0\n",
            "5761  4531.367083     10  ...     5926624         0\n",
            "5762  4268.258958     10  ...     5926624         0\n",
            "5763  4068.812292     10  ...     5926624         0\n",
            "\n",
            "[5764 rows x 13 columns]\n"
          ],
          "name": "stdout"
        }
      ]
    },
    {
      "cell_type": "code",
      "metadata": {
        "id": "lWhmyUXSpS0b",
        "outputId": "9ef3b984-1d42-4ebf-b875-43e75b7bd190",
        "colab": {
          "base_uri": "https://localhost:8080/"
        }
      },
      "source": [
        "df.isna().sum()\n"
      ],
      "execution_count": 9,
      "outputs": [
        {
          "output_type": "execute_result",
          "data": {
            "text/plain": [
              "TOTALDEMAND                       0\n",
              "Month                             0\n",
              "Year                              0\n",
              "Week                              0\n",
              "dayofweek                         0\n",
              "dayofyear                         0\n",
              "weekofyear                        0\n",
              "quarter                           0\n",
              "dayofmonth                        0\n",
              "Maximum temperature (Degree C)    0\n",
              "Minimum temperature (Degree C)    0\n",
              "population                        0\n",
              "holidays                          0\n",
              "dtype: int64"
            ]
          },
          "metadata": {
            "tags": []
          },
          "execution_count": 9
        }
      ]
    },
    {
      "cell_type": "code",
      "metadata": {
        "id": "wYAnSYYEpWOM"
      },
      "source": [
        "from keras.callbacks import ModelCheckpoint\n",
        "from keras.models import Sequential\n",
        "from keras.layers import Dense, Activation, Flatten\n",
        "from sklearn.model_selection import train_test_split\n",
        "from sklearn.ensemble import RandomForestRegressor\n",
        "from sklearn.metrics import mean_absolute_error \n",
        "from matplotlib import pyplot as plt\n",
        "import seaborn as sb\n",
        "import matplotlib.pyplot as plt\n",
        "import pandas as pd\n",
        "import numpy as np\n",
        "import warnings \n",
        "warnings.filterwarnings('ignore')\n",
        "warnings.filterwarnings('ignore', category=DeprecationWarning)\n",
        "from xgboost import XGBRegressor"
      ],
      "execution_count": 10,
      "outputs": []
    },
    {
      "cell_type": "code",
      "metadata": {
        "id": "WENG4FBApYkR"
      },
      "source": [
        "y=df['TOTALDEMAND']\n",
        "df_t=df.drop(['TOTALDEMAND'],axis=1)"
      ],
      "execution_count": 11,
      "outputs": []
    },
    {
      "cell_type": "code",
      "metadata": {
        "id": "lTDyn6XfpafS"
      },
      "source": [
        "train_X, val_X, train_y, val_y = train_test_split(df_t,y, test_size = 0.25, random_state = 14)\n"
      ],
      "execution_count": 12,
      "outputs": []
    },
    {
      "cell_type": "code",
      "metadata": {
        "id": "zF3iHMXepeBW",
        "outputId": "d9b3fc90-fb02-42c9-8f4b-7bfb73130006",
        "colab": {
          "base_uri": "https://localhost:8080/"
        }
      },
      "source": [
        "model = RandomForestRegressor()\n",
        "model.fit(train_X,train_y)"
      ],
      "execution_count": 13,
      "outputs": [
        {
          "output_type": "execute_result",
          "data": {
            "text/plain": [
              "RandomForestRegressor(bootstrap=True, ccp_alpha=0.0, criterion='mse',\n",
              "                      max_depth=None, max_features='auto', max_leaf_nodes=None,\n",
              "                      max_samples=None, min_impurity_decrease=0.0,\n",
              "                      min_impurity_split=None, min_samples_leaf=1,\n",
              "                      min_samples_split=2, min_weight_fraction_leaf=0.0,\n",
              "                      n_estimators=100, n_jobs=None, oob_score=False,\n",
              "                      random_state=None, verbose=0, warm_start=False)"
            ]
          },
          "metadata": {
            "tags": []
          },
          "execution_count": 13
        }
      ]
    },
    {
      "cell_type": "code",
      "metadata": {
        "id": "68m52kM6peGT"
      },
      "source": [
        "predicted_demand = model.predict(df_t)\n"
      ],
      "execution_count": 14,
      "outputs": []
    },
    {
      "cell_type": "code",
      "metadata": {
        "id": "DSYZu-TIpeJU"
      },
      "source": [
        "predicted_demand = pd.DataFrame(predicted_demand, columns=['predicted_demand']).to_csv('predicted_demand.csv') "
      ],
      "execution_count": 15,
      "outputs": []
    },
    {
      "cell_type": "code",
      "metadata": {
        "id": "NTh7rB40qBeB",
        "outputId": "032cd592-1ce0-4977-817f-c4c302cf758b",
        "colab": {
          "base_uri": "https://localhost:8080/"
        }
      },
      "source": [
        "XGBModel = XGBRegressor()\n",
        "XGBModel.fit(df_t,y , verbose=False)"
      ],
      "execution_count": 16,
      "outputs": [
        {
          "output_type": "stream",
          "text": [
            "[10:59:36] WARNING: /workspace/src/objective/regression_obj.cu:152: reg:linear is now deprecated in favor of reg:squarederror.\n"
          ],
          "name": "stdout"
        },
        {
          "output_type": "execute_result",
          "data": {
            "text/plain": [
              "XGBRegressor(base_score=0.5, booster='gbtree', colsample_bylevel=1,\n",
              "             colsample_bynode=1, colsample_bytree=1, gamma=0,\n",
              "             importance_type='gain', learning_rate=0.1, max_delta_step=0,\n",
              "             max_depth=3, min_child_weight=1, missing=None, n_estimators=100,\n",
              "             n_jobs=1, nthread=None, objective='reg:linear', random_state=0,\n",
              "             reg_alpha=0, reg_lambda=1, scale_pos_weight=1, seed=None,\n",
              "             silent=None, subsample=1, verbosity=1)"
            ]
          },
          "metadata": {
            "tags": []
          },
          "execution_count": 16
        }
      ]
    },
    {
      "cell_type": "code",
      "metadata": {
        "id": "i9VioX-tqVX3"
      },
      "source": [
        "XGBpredictions = XGBModel.predict(df_t)\n"
      ],
      "execution_count": 17,
      "outputs": []
    },
    {
      "cell_type": "code",
      "metadata": {
        "id": "zYSQJmA6qca0"
      },
      "source": [
        "XGBpredictions = pd.DataFrame(XGBpredictions, columns=['XGBpredictions']).to_csv('XGBpredictions.csv') "
      ],
      "execution_count": 18,
      "outputs": []
    }
  ]
}